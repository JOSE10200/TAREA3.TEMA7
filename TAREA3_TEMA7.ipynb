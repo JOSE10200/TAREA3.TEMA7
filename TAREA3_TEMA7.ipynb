{
  "nbformat": 4,
  "nbformat_minor": 0,
  "metadata": {
    "colab": {
      "name": "TAREA3.TEMA7.ipynb",
      "provenance": [],
      "authorship_tag": "ABX9TyMqGbC3yqAG76DYtMdicibK",
      "include_colab_link": true
    },
    "kernelspec": {
      "name": "python3",
      "display_name": "Python 3"
    }
  },
  "cells": [
    {
      "cell_type": "markdown",
      "metadata": {
        "id": "view-in-github",
        "colab_type": "text"
      },
      "source": [
        "<a href=\"https://colab.research.google.com/github/JOSE10200/TAREA3.TEMA7/blob/main/TAREA3_TEMA7.ipynb\" target=\"_parent\"><img src=\"https://colab.research.google.com/assets/colab-badge.svg\" alt=\"Open In Colab\"/></a>"
      ]
    },
    {
      "cell_type": "code",
      "metadata": {
        "colab": {
          "base_uri": "https://localhost:8080/"
        },
        "id": "J0zNr_pLKhbJ",
        "outputId": "5c7397fd-89d0-4c0c-f02d-b45461d86e08"
      },
      "source": [
        "# TAREA 2\n",
        "\n",
        "Carne = \"Doble triple\"\n",
        "Salsa = \"De Coral\"\n",
        "Decorado = \"De lujo\"\n",
        "Estilo = \"Animal\"\n",
        "Guijarros = \"Extra\"\n",
        "Vibración = \"Exprimida\"\n",
        "Eje = \"Con grasa ligera\"\n",
        "Hazlo = \"Llorar\"\n",
        "Quémalo = \"Sí\"\n",
        "Nadando = \"Sí\"\n",
        "Pepinillos = \"Sí\"\n",
        "\n",
        "\n",
        "if (Carne == \"Doble triple\" or \n",
        "Salsa == \"De Coral\" or\n",
        "Decorado == \"De lujo\" or\n",
        "Estilo == \"Animal\" or \n",
        "Guijarros == \"Extra\" or\n",
        "Vibración == \"Exprimida\" or\n",
        "Eje == \"Con grasa ligera\" or \n",
        "Hazlo == \"Llorar\" or\n",
        "Quémalo == \"Sí\" or\n",
        "Nadando == \"Sí\" or\n",
        "Pepinillos == \"No\"):\n",
        "  print(\"Quiere la kangreburguer\")\n",
        "else:\n",
        "  print(\"No quiere la kangrebuger\")"
      ],
      "execution_count": 1,
      "outputs": [
        {
          "output_type": "stream",
          "text": [
            "Quiere la kangreburguer\n"
          ],
          "name": "stdout"
        }
      ]
    }
  ]
}